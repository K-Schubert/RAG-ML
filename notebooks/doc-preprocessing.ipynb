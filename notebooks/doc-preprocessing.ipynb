{
 "cells": [
  {
   "cell_type": "code",
   "execution_count": null,
   "id": "297ab68e",
   "metadata": {},
   "outputs": [],
   "source": [
    "import pandas as pd\n",
    "import json\n",
    "import tqdm\n",
    "\n",
    "from datasets import load_dataset\n",
    "\n",
    "from langchain.document_loaders import JSONLoader"
   ]
  },
  {
   "cell_type": "markdown",
   "id": "1bead6cd",
   "metadata": {},
   "source": [
    "# Load documents"
   ]
  },
  {
   "cell_type": "code",
   "execution_count": 45,
   "id": "2984efdd",
   "metadata": {},
   "outputs": [],
   "source": [
    "# DONT USE AUG DATASET FOR THE MOMENT\n",
    "#dataset = pd.read_json(\"../data/cs_CLpapers_aug.jsonl\", lines=True)\n",
    "#dataset.dropna(subset=[\"content\"], inplace=True)\n",
    "\n",
    "# CURRENTLY ONLY USING ABSTRACT SUMMARY TO INSERT AS EMBEDDING VECTORS IN DB\n",
    "#dataset = pd.read_json(\"../data/cs_CLpapers.jsonl\", lines=True)\n",
    "#dataset.dropna(subset=[\"summary\"], inplace=True)"
   ]
  },
  {
   "cell_type": "code",
   "execution_count": 48,
   "id": "6862cdda",
   "metadata": {},
   "outputs": [],
   "source": [
    "# Define the metadata extraction function.\n",
    "def metadata_func(record: dict, metadata: dict) -> dict:\n",
    "\n",
    "    metadata[\"title\"] = record.get(\"title\")\n",
    "    metadata[\"pdf_url\"] = record.get(\"pdf_url\")\n",
    "\n",
    "    return metadata"
   ]
  },
  {
   "cell_type": "code",
   "execution_count": 148,
   "id": "559a62dc",
   "metadata": {},
   "outputs": [],
   "source": [
    "cat = \"cs_CL\""
   ]
  },
  {
   "cell_type": "code",
   "execution_count": 72,
   "id": "c0e25946",
   "metadata": {},
   "outputs": [],
   "source": [
    "# *** ONLY LOAD ABSTRACTS ***\n",
    "loader = JSONLoader(\n",
    "    file_path=f\"../data/{cat}papers.jsonl\",\n",
    "    jq_schema='.',\n",
    "    content_key=\"summary\",\n",
    "    metadata_func=metadata_func,\n",
    "    json_lines=True)\n",
    "\n",
    "docs = loader.load()"
   ]
  },
  {
   "cell_type": "markdown",
   "id": "18483fa4",
   "metadata": {},
   "source": [
    "# Use THIS"
   ]
  },
  {
   "cell_type": "code",
   "execution_count": 132,
   "id": "e5ea884f",
   "metadata": {},
   "outputs": [],
   "source": [
    "# LOAD PAPER CONTENT\n",
    "loader = JSONLoader(\n",
    "    file_path=f\"../data/{cat}papers_aug_clean.jsonl\",\n",
    "    jq_schema='.',\n",
    "    content_key=\"content\",\n",
    "    metadata_func=metadata_func,\n",
    "    json_lines=True)\n",
    "\n",
    "docs = loader.load()"
   ]
  },
  {
   "cell_type": "markdown",
   "id": "c4e8a4ca",
   "metadata": {},
   "source": [
    "# Document preprocessing"
   ]
  },
  {
   "cell_type": "markdown",
   "id": "a9ad6511",
   "metadata": {},
   "source": [
    "- Remove \\n ???\n",
    "- Truncate docs using max token count\n",
    "- Tile docs using RecursiveTextSplitter with overlap"
   ]
  },
  {
   "cell_type": "markdown",
   "id": "f3f38c15",
   "metadata": {},
   "source": [
    "![Tokenizers](../media/tokenizers.png)\n",
    "\n",
    "- call tiktoken.encoding_for_model(\"text-davinci-003\")\n",
    "- https://github.com/openai/tiktoken/blob/main/tiktoken/model.py"
   ]
  },
  {
   "cell_type": "code",
   "execution_count": 134,
   "id": "4b80d785",
   "metadata": {},
   "outputs": [],
   "source": [
    "# *** USE APPROPRIATE TOKENIZER IF NOT USEN OPENAI MODELS ***\n",
    "tokenizer = tiktoken.get_encoding(\"cl100k_base\") # use this tokenizer for gpt-3.5-turbo"
   ]
  },
  {
   "cell_type": "code",
   "execution_count": 135,
   "id": "60c9a969",
   "metadata": {},
   "outputs": [],
   "source": [
    "def tiktoken_len(text):\n",
    "    \n",
    "    tokens = tokenizer.encode(\n",
    "        text,\n",
    "        disallowed_special=()\n",
    "    )\n",
    "    \n",
    "    return len(tokens)"
   ]
  },
  {
   "cell_type": "code",
   "execution_count": 136,
   "id": "d8b6ae12",
   "metadata": {},
   "outputs": [
    {
     "name": "stdout",
     "output_type": "stream",
     "text": [
      "min token count:  1261\n",
      "max token count:  126647\n",
      "avg token count:  11197\n"
     ]
    }
   ],
   "source": [
    "token_counts = [tiktoken_len(x.page_content) for x in docs]\n",
    "\n",
    "print(\"min token count: \", min(token_counts))\n",
    "print(\"max token count: \", max(token_counts))\n",
    "print(\"avg token count: \", int(sum(token_counts)/len(token_counts)))"
   ]
  },
  {
   "cell_type": "code",
   "execution_count": 137,
   "id": "be80fd8b-7e8a-477e-a3d1-6a9413ebeac9",
   "metadata": {},
   "outputs": [
    {
     "name": "stderr",
     "output_type": "stream",
     "text": [
      "/Users/kieranschubert/Desktop/RAG-ML/venv_rag/lib/python3.11/site-packages/seaborn/_oldcore.py:1498: FutureWarning: is_categorical_dtype is deprecated and will be removed in a future version. Use isinstance(dtype, CategoricalDtype) instead\n",
      "  if pd.api.types.is_categorical_dtype(vector):\n",
      "/Users/kieranschubert/Desktop/RAG-ML/venv_rag/lib/python3.11/site-packages/seaborn/_oldcore.py:1119: FutureWarning: use_inf_as_na option is deprecated and will be removed in a future version. Convert inf values to NaN before operating instead.\n",
      "  with pd.option_context('mode.use_inf_as_na', True):\n"
     ]
    },
    {
     "data": {
      "image/png": "[encoded data removed]",
      "text/plain": [
       "<Figure size 640x480 with 1 Axes>"
      ]
     },
     "metadata": {},
     "output_type": "display_data"
    }
   ],
   "source": [
    "sns.set_style(\"whitegrid\")\n",
    "sns.set_palette(\"muted\")\n",
    "\n",
    "fig, ax = plt.subplots()\n",
    "\n",
    "sns.histplot(token_counts, kde=False, bins=50, ax=ax)\n",
    "\n",
    "ax.set_title(\"Token Counts Histogram\")\n",
    "ax.set_ylabel(\"Freq\")\n",
    "ax.set_xlabel(\"Token Count\")\n",
    "\n",
    "plt.show()"
   ]
  },
  {
   "cell_type": "markdown",
   "id": "6a37b131",
   "metadata": {},
   "source": [
    "# RecursiveTextSplitter"
   ]
  },
  {
   "cell_type": "markdown",
   "id": "29e72bee",
   "metadata": {},
   "source": [
    "- gpt-3.5-turbo has a max context window of 4096 tokens: this includes the prompt (instructions + context + query) and generated answer"
   ]
  },
  {
   "cell_type": "code",
   "execution_count": 138,
   "id": "ec4321c8",
   "metadata": {},
   "outputs": [],
   "source": [
    "text_splitter = RecursiveCharacterTextSplitter(\n",
    "    chunk_size=400,\n",
    "    chunk_overlap=20,\n",
    "    length_function=tiktoken_len,\n",
    "    separators=[\"\\n\\n\", \"\\n\", \" \", \"\"])"
   ]
  },
  {
   "cell_type": "code",
   "execution_count": 139,
   "id": "b0594748",
   "metadata": {},
   "outputs": [
    {
     "name": "stderr",
     "output_type": "stream",
     "text": [
      "100%|████████████████████████████████████████████████████████████████████████████████████████████████████████████████████████████████████████████████████████████████████████████████████████████████████████████| 1897/1897 [00:34<00:00, 55.00it/s]\n"
     ]
    },
    {
     "data": {
      "text/plain": [
       "59384"
      ]
     },
     "execution_count": 139,
     "metadata": {},
     "output_type": "execute_result"
    }
   ],
   "source": [
    "documents = []\n",
    "\n",
    "for doc in tqdm.tqdm(docs):\n",
    "\n",
    "    m.update(doc.metadata[\"pdf_url\"].encode(\"utf-8\"))\n",
    "    uid = m.hexdigest()[:10]\n",
    "    chunks = text_splitter.split_text(doc.page_content)\n",
    "    \n",
    "    for i, chunk in enumerate(chunks):\n",
    "        documents.append({\n",
    "            \"id\": f\"{uid}-{i}\",\n",
    "            \"text\": chunk,\n",
    "            \"title\": doc.metadata[\"title\"],\n",
    "            \"source\": doc.metadata[\"pdf_url\"]\n",
    "        })\n",
    "\n",
    "len(documents)"
   ]
  },
  {
   "cell_type": "code",
   "execution_count": 151,
   "id": "74df2b31",
   "metadata": {},
   "outputs": [],
   "source": [
    "# save documents\n",
    "with open(f\"../data/{cat.replace('.', '_')}_train.jsonl\", \"w\") as outfile:\n",
    "    for doc in documents:\n",
    "        outfile.write(json.dumps(doc) + '\\n')"
   ]
  },
  {
   "cell_type": "code",
   "execution_count": 152,
   "id": "3d81b7ac",
   "metadata": {},
   "outputs": [
    {
     "data": {
      "text/plain": [
       "59384"
      ]
     },
     "execution_count": 152,
     "metadata": {},
     "output_type": "execute_result"
    }
   ],
   "source": [
    "# read documents\n",
    "documents = []\n",
    "\n",
    "with open(f\"../data/{cat.replace('.', '_')}_train.jsonl\", \"r\") as infile:\n",
    "    for line in infile:\n",
    "        documents.append(json.loads(line))\n",
    "\n",
    "len(documents)"
   ]
  },
  {
   "cell_type": "code",
   "execution_count": null,
   "id": "98162d08",
   "metadata": {},
   "outputs": [],
   "source": [
    "# Load dataset from Huggingface\n",
    "documents = load_dataset(\"kieranschubert/arxiv_cs_CL_train\", split=\"train\")"
   ]
  },
  {
   "cell_type": "code",
   "execution_count": null,
   "id": "93ce467c",
   "metadata": {},
   "outputs": [],
   "source": []
  },
  {
   "cell_type": "code",
   "execution_count": null,
   "id": "5c906a2d",
   "metadata": {},
   "outputs": [],
   "source": []
  },
  {
   "cell_type": "code",
   "execution_count": null,
   "id": "1595e570",
   "metadata": {},
   "outputs": [],
   "source": []
  },
  {
   "cell_type": "code",
   "execution_count": null,
   "id": "c89b305e",
   "metadata": {},
   "outputs": [],
   "source": []
  },
  {
   "cell_type": "code",
   "execution_count": null,
   "id": "ce7b2d69",
   "metadata": {},
   "outputs": [],
   "source": []
  },
  {
   "cell_type": "code",
   "execution_count": null,
   "id": "fb75cbbf",
   "metadata": {},
   "outputs": [],
   "source": []
  }
 ],
 "metadata": {
  "kernelspec": {
   "display_name": "venv_rag",
   "language": "python",
   "name": "venv_rag"
  },
  "language_info": {
   "codemirror_mode": {
    "name": "ipython",
    "version": 3
   },
   "file_extension": ".py",
   "mimetype": "text/x-python",
   "name": "python",
   "nbconvert_exporter": "python",
   "pygments_lexer": "ipython3",
   "version": "3.11.5"
  }
 },
 "nbformat": 4,
 "nbformat_minor": 5
}
