{
 "cells": [
  {
   "cell_type": "code",
   "execution_count": null,
   "id": "474937af-9380-4bee-9f13-f3562b159abe",
   "metadata": {},
   "outputs": [],
   "source": [
    "import arxiv\n",
    "import json\n",
    "import requests\n",
    "import time\n",
    "import tqdm\n",
    "from numpy import random\n",
    "import asyncio"
   ]
  },
  {
   "cell_type": "markdown",
   "id": "80eafa07-d174-4a1e-945e-300088940f03",
   "metadata": {},
   "source": [
    "# Retrieve Arxiv papers based on a given category"
   ]
  },
  {
   "cell_type": "code",
   "execution_count": null,
   "id": "f480f8d8",
   "metadata": {},
   "outputs": [],
   "source": [
    "#cs.CL, cs.AI, cs.LG, cs.MA, cs.CV\n",
    "cat = \"cs.AI\""
   ]
  },
  {
   "cell_type": "code",
   "execution_count": null,
   "id": "adad151d-8ea5-4f13-aaf4-83f3690ffd31",
   "metadata": {},
   "outputs": [],
   "source": [
    "search = arxiv.Search(\n",
    "    query=f\"cat:{cat}\", \n",
    "    max_results=2000,\n",
    "    sort_by=arxiv.SortCriterion.SubmittedDate\n",
    ")"
   ]
  },
  {
   "cell_type": "code",
   "execution_count": null,
   "id": "029eb08f-7e2c-4b25-8a44-08b50846d99c",
   "metadata": {},
   "outputs": [],
   "source": [
    "papers = list(search.results())"
   ]
  },
  {
   "cell_type": "code",
   "execution_count": null,
   "id": "12412181-eb2e-4b4a-b425-bae7e1ed5ccd",
   "metadata": {},
   "outputs": [],
   "source": [
    "dataset = list()\n",
    "\n",
    "for paper in papers:\n",
    "    \n",
    "    dataset.append({\n",
    "        \"title\": paper.title,\n",
    "        \"authors\": \", \".join([author.name for author in paper.authors]),\n",
    "        \"categories\": \", \".join([category for category in paper.categories]),\n",
    "        \"comment\": paper.comment,\n",
    "        \"doi\": paper.doi,\n",
    "        \"entry_id\": paper.entry_id,\n",
    "        \"journal_ref\": paper.journal_ref,\n",
    "        \"pdf_url\": paper.pdf_url,\n",
    "        \"primary_category\": paper.primary_category,\n",
    "        \"published\": str(paper.published),\n",
    "        \"summary\": paper.summary,\n",
    "        \"updated\": str(paper.updated)\n",
    "    })"
   ]
  },
  {
   "cell_type": "code",
   "execution_count": null,
   "id": "d25ad775-fa9e-4f3b-8d8f-764f77e93a77",
   "metadata": {},
   "outputs": [],
   "source": [
    "with open(f\"../data/{cat.replace('.', '_')}papers.jsonl\", 'w') as outfile:\n",
    "    for entry in dataset:\n",
    "        jout = json.dumps(entry) + '\\n'\n",
    "        outfile.write(jout)"
   ]
  },
  {
   "cell_type": "markdown",
   "id": "46f4c57b-a6c0-4361-85f5-240e10312112",
   "metadata": {},
   "source": [
    "# Scrap pdfs"
   ]
  },
  {
   "cell_type": "code",
   "execution_count": null,
   "id": "a5e800d9-5bed-43e7-a657-f96b5cfce94e",
   "metadata": {},
   "outputs": [],
   "source": [
    "with open(f\"../data/{cat.replace('.', '_')}papers.jsonl\", 'r') as infile:\n",
    "    json_list = list(infile)\n",
    "\n",
    "papers = []\n",
    "\n",
    "for json_str in json_list:\n",
    "    papers.append(json.loads(json_str))"
   ]
  },
  {
   "cell_type": "markdown",
   "id": "6e14bfab",
   "metadata": {},
   "source": [
    "# NON ASYNC SCRAPING\n",
    "\n",
    "for paper in tqdm.tqdm(papers):\n",
    "\n",
    "    paper_id = paper[\"pdf_url\"].split(\"/\")[-1]\n",
    "    pdf_url = f\"https://export.arxiv.org/pdf/{paper_id}\"\n",
    "    \n",
    "    res = requests.get(pdf_url)\n",
    "    \n",
    "    with open(f\"../data/pdfs/{cat.replace('.', '_')}/{paper_id}.pdf\", \"wb\") as outfile:\n",
    "        outfile.write(res.content)\n",
    "\n",
    "    time.sleep(random.uniform(0.0, 2.0))"
   ]
  },
  {
   "cell_type": "markdown",
   "id": "6eba2297",
   "metadata": {},
   "source": [
    "### Asyncio scraping"
   ]
  },
  {
   "cell_type": "code",
   "execution_count": null,
   "id": "1ef81c11-72ab-405d-b799-2a4077c07bd4",
   "metadata": {},
   "outputs": [],
   "source": [
    "# *** NEED TO MANUALLY SET ARXIV cat ***\n",
    "\n",
    "def fetch_pdf(paper):\n",
    "    \n",
    "    paper_id = paper[\"pdf_url\"].split(\"/\")[-1]\n",
    "    pdf_url = f\"https://export.arxiv.org/pdf/{paper_id}\"\n",
    "    \n",
    "    res = requests.get(pdf_url)\n",
    "\n",
    "    with open(f\"../data/pdfs/cs_LG/{paper_id}.pdf\", \"wb\") as outfile:\n",
    "        outfile.write(res.content)\n",
    "\n",
    "async def scrape_arxiv(paper, loop):\n",
    "    await loop.run_in_executor(None, fetch_pdf, paper)\n",
    "\n",
    "\n",
    "def main(papers):\n",
    "    \n",
    "    loop = asyncio.get_event_loop()\n",
    "    \n",
    "    for paper in papers:\n",
    "        loop.create_task(scrape_arxiv(paper, loop))\n",
    "\n",
    "    loop.run_until_complete(asyncio.gather(*asyncio.all_tasks(loop)))"
   ]
  },
  {
   "cell_type": "code",
   "execution_count": null,
   "id": "686070ec-e17d-496b-81e3-c499cd0ac629",
   "metadata": {},
   "outputs": [],
   "source": [
    "main(papers)"
   ]
  },
  {
   "cell_type": "markdown",
   "id": "85e52d54-66c2-46a9-9f16-0f7c73e440d7",
   "metadata": {},
   "source": [
    "for papers_chunk in tqdm.tqdm(chunks(papers, 5)):\n",
    "    main(papers_chunk)"
   ]
  },
  {
   "cell_type": "code",
   "execution_count": null,
   "id": "2d749c46-3b2f-42e4-b2d7-7e7f0168973a",
   "metadata": {},
   "outputs": [],
   "source": [
    "def load_html(url):\n",
    "    print(url)\n",
    "    res = urlopen(url)\n",
    "    return res.read().decode()\n",
    "\n",
    "\n",
    "def main():\n",
    "    loop = asyncio.get_event_loop()\n",
    "    tasks = [loop.run_in_executor(None, load_html, url) for url in URLS]\n",
    "    data = loop.run_until_complete(asyncio.gather(*tasks))\n",
    "    with open('/tmp/j_dump', 'w') as fp:\n",
    "        json.dump(data, fp)"
   ]
  }
 ],
 "metadata": {
  "kernelspec": {
   "display_name": "venv_rag",
   "language": "python",
   "name": "venv_rag"
  },
  "language_info": {
   "codemirror_mode": {
    "name": "ipython",
    "version": 3
   },
   "file_extension": ".py",
   "mimetype": "text/x-python",
   "name": "python",
   "nbconvert_exporter": "python",
   "pygments_lexer": "ipython3",
   "version": "3.11.5"
  }
 },
 "nbformat": 4,
 "nbformat_minor": 5
}
