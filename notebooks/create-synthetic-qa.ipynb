{
 "cells": [
  {
   "cell_type": "code",
   "execution_count": 50,
   "id": "4754f6d7-fae2-4931-a9e5-9bf6cdbb596e",
   "metadata": {},
   "outputs": [],
   "source": [
    "import os\n",
    "from dotenv import load_dotenv\n",
    "import time\n",
    "import random\n",
    "import tqdm\n",
    "import json\n",
    "\n",
    "from langchain.llms import OpenAI\n",
    "from langchain.chains import LLMChain\n",
    "from langchain.prompts import PromptTemplate\n",
    "from langchain.document_loaders import JSONLoader\n",
    "\n",
    "from datasets import load_dataset"
   ]
  },
  {
   "cell_type": "code",
   "execution_count": 8,
   "id": "be30b4ed-1ca3-4c6e-b033-70263e3a8c01",
   "metadata": {},
   "outputs": [],
   "source": [
    "# Define the metadata extraction function.\n",
    "def metadata_func(record: dict, metadata: dict) -> dict:\n",
    "\n",
    "    metadata[\"title\"] = record.get(\"title\")\n",
    "    metadata[\"source\"] = record.get(\"source\")\n",
    "    metadata[\"id\"] = record.get(\"id\")\n",
    "\n",
    "    return metadata"
   ]
  },
  {
   "cell_type": "code",
   "execution_count": 2,
   "id": "b1eb869c-5421-453e-b9f6-41819cbd437b",
   "metadata": {},
   "outputs": [],
   "source": [
    "# Load env variables\n",
    "load_dotenv()\n",
    "OPENAI_API_KEY = os.getenv(\"OPENAI_API_KEY\")"
   ]
  },
  {
   "cell_type": "code",
   "execution_count": 19,
   "id": "27afd165-b8a8-4aec-b4d3-c53dbcdf57cf",
   "metadata": {},
   "outputs": [],
   "source": [
    "llm = OpenAI(openai_api_key=OPENAI_API_KEY,\n",
    "             model='text-davinci-003',\n",
    "             temperature=0.2)\n",
    "\n",
    "prompt = PromptTemplate(\n",
    "    input_variables=[\"answer\"],\n",
    "    template=\"Generate a one line question that would produce the following answer: \\n\\nAnswer: {answer}\\n\\nQuestion:\",\n",
    ")\n",
    "\n",
    "chain = LLMChain(llm=llm, prompt=prompt)"
   ]
  },
  {
   "cell_type": "code",
   "execution_count": 9,
   "id": "9505727e-c6de-40ce-b385-8365ba28508e",
   "metadata": {},
   "outputs": [],
   "source": [
    "loader = JSONLoader(\n",
    "    file_path=f\"../data/cs_CL_train.jsonl\",\n",
    "    jq_schema='.',\n",
    "    content_key=\"text\",\n",
    "    metadata_func=metadata_func,\n",
    "    json_lines=True)\n",
    "\n",
    "docs = loader.load()"
   ]
  },
  {
   "cell_type": "code",
   "execution_count": 47,
   "id": "2f0d4e43-d593-470c-b5b3-1a877b90c325",
   "metadata": {},
   "outputs": [
    {
     "name": "stderr",
     "output_type": "stream",
     "text": [
      " 46%|████████████████████████████████████████████████████████████▎                                                                      | 244/530 [05:52<06:22,  1.34s/it]Retrying langchain.llms.openai.completion_with_retry.<locals>._completion_with_retry in 4.0 seconds as it raised APIError: Request failed due to server shutdown {\n",
      "  \"error\": {\n",
      "    \"message\": \"Request failed due to server shutdown\",\n",
      "    \"type\": \"server_error\",\n",
      "    \"param\": null,\n",
      "    \"code\": null\n",
      "  }\n",
      "}\n",
      " 500 {'error': {'message': 'Request failed due to server shutdown', 'type': 'server_error', 'param': None, 'code': None}} {'Date': 'Mon, 25 Sep 2023 16:44:32 GMT', 'Content-Type': 'application/json', 'Content-Length': '141', 'Connection': 'keep-alive', 'access-control-allow-origin': '*', 'openai-model': 'text-davinci-003', 'openai-organization': 'user-so2qcd1fggxbyrn5icvmo3us', 'openai-processing-ms': '8709', 'openai-version': '2020-10-01', 'strict-transport-security': 'max-age=15724800; includeSubDomains', 'x-ratelimit-limit-requests': '3000', 'x-ratelimit-limit-tokens': '250000', 'x-ratelimit-limit-tokens_usage_based': '250000', 'x-ratelimit-remaining-requests': '2999', 'x-ratelimit-remaining-tokens': '249744', 'x-ratelimit-remaining-tokens_usage_based': '249744', 'x-ratelimit-reset-requests': '20ms', 'x-ratelimit-reset-tokens': '61ms', 'x-ratelimit-reset-tokens_usage_based': '61ms', 'x-request-id': '15f945187940da9ae49642d23d73e8fd', 'CF-Cache-Status': 'DYNAMIC', 'Server': 'cloudflare', 'CF-RAY': '80c4bb4608d22bee-FRA', 'alt-svc': 'h3=\":443\"; ma=86400'}.\n",
      "100%|███████████████████████████████████████████████████████████████████████████████████████████████████████████████████████████████████| 530/530 [13:04<00:00,  1.48s/it]\n"
     ]
    }
   ],
   "source": [
    "#qa = []\n",
    "\n",
    "for doc in tqdm.tqdm(random.sample(docs, 530)):\n",
    "    res = chain.run(doc.page_content)\n",
    "    qa.append({\"question\": res.strip(),\n",
    "               \"answer\": doc.page_content})\n",
    "\n",
    "    time.sleep(0.5)"
   ]
  },
  {
   "cell_type": "code",
   "execution_count": 48,
   "id": "84e1b165-6717-4e42-be91-ca17d779b0d6",
   "metadata": {},
   "outputs": [
    {
     "data": {
      "text/plain": [
       "1000"
      ]
     },
     "execution_count": 48,
     "metadata": {},
     "output_type": "execute_result"
    }
   ],
   "source": [
    "len(qa)"
   ]
  },
  {
   "cell_type": "code",
   "execution_count": 51,
   "id": "4fcc7efc-50c7-4f29-869f-52e5e9e2c31f",
   "metadata": {},
   "outputs": [],
   "source": [
    "# save documents\n",
    "with open(f\"../data/cs_CL_train_qa.jsonl\", \"w\") as outfile:\n",
    "    for qa_pair in qa:\n",
    "        outfile.write(json.dumps(qa_pair) + '\\n')"
   ]
  },
  {
   "cell_type": "code",
   "execution_count": null,
   "id": "60b99350-7d1e-477f-a874-483b43d78d4d",
   "metadata": {},
   "outputs": [],
   "source": []
  }
 ],
 "metadata": {
  "kernelspec": {
   "display_name": "venv_rag",
   "language": "python",
   "name": "venv_rag"
  },
  "language_info": {
   "codemirror_mode": {
    "name": "ipython",
    "version": 3
   },
   "file_extension": ".py",
   "mimetype": "text/x-python",
   "name": "python",
   "nbconvert_exporter": "python",
   "pygments_lexer": "ipython3",
   "version": "3.11.5"
  }
 },
 "nbformat": 4,
 "nbformat_minor": 5
}
