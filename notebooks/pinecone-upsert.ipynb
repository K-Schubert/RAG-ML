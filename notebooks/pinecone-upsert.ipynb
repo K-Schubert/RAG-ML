{
 "cells": [
  {
   "cell_type": "code",
   "execution_count": 1,
   "id": "2b1bbc08",
   "metadata": {},
   "outputs": [
    {
     "name": "stderr",
     "output_type": "stream",
     "text": [
      "/Users/kieranschubert/Desktop/RAG-ML/venv_rag/lib/python3.11/site-packages/tqdm/auto.py:21: TqdmWarning: IProgress not found. Please update jupyter and ipywidgets. See https://ipywidgets.readthedocs.io/en/stable/user_install.html\n",
      "  from .autonotebook import tqdm as notebook_tqdm\n"
     ]
    }
   ],
   "source": [
    "# Import libraries\n",
    "import time\n",
    "import tqdm\n",
    "import glob\n",
    "import os\n",
    "\n",
    "import pandas as pd\n",
    "\n",
    "from langchain.embeddings.openai import OpenAIEmbeddings\n",
    "from langchain.vectorstores import Pinecone\n",
    "from langchain.document_loaders import JSONLoader\n",
    "\n",
    "from datasets import load_dataset\n",
    "\n",
    "import pinecone\n",
    "\n",
    "from dotenv import load_dotenv"
   ]
  },
  {
   "cell_type": "code",
   "execution_count": 2,
   "id": "97d34692",
   "metadata": {},
   "outputs": [],
   "source": [
    "# Load env variables\n",
    "load_dotenv()\n",
    "\n",
    "OPENAI_API_KEY = os.getenv(\"OPENAI_API_KEY\")\n",
    "PINECONE_API_KEY = os.getenv('PINECONE_API_KEY')\n",
    "PINECONE_ENVIRONMENT = os.getenv('PINECONE_ENVIRONMENT')"
   ]
  },
  {
   "cell_type": "markdown",
   "id": "bf0f96e0-e8a0-4a86-aa68-219c24743bfe",
   "metadata": {},
   "source": [
    "# Setup Vector DB (Pinecone)"
   ]
  },
  {
   "cell_type": "code",
   "execution_count": 3,
   "id": "c53db15a-5737-4fe0-b8f2-9d276cd85185",
   "metadata": {},
   "outputs": [],
   "source": [
    "# Load env variables\n",
    "pinecone.init(\n",
    "    api_key=PINECONE_API_KEY,\n",
    "    environment=PINECONE_ENVIRONMENT\n",
    ")"
   ]
  },
  {
   "cell_type": "code",
   "execution_count": 4,
   "id": "f65b6af7-8fdb-40f3-b438-0ff69643f9b2",
   "metadata": {},
   "outputs": [],
   "source": [
    "index_name = 'rag-ml'\n",
    "\n",
    "if index_name not in pinecone.list_indexes():\n",
    "    pinecone.create_index(\n",
    "        index_name,\n",
    "        dimension=1536,\n",
    "        metric='cosine'\n",
    "    )\n",
    "    # wait for index to finish initialization\n",
    "    while not pinecone.describe_index(index_name).status['ready']:\n",
    "        time.sleep(1)\n",
    "\n",
    "#index = pinecone.GRPCIndex(index_name)\n",
    "index = pinecone.Index(index_name)"
   ]
  },
  {
   "cell_type": "code",
   "execution_count": 5,
   "id": "39f05938-bae7-406b-b9b2-7854543a04bb",
   "metadata": {},
   "outputs": [
    {
     "data": {
      "text/plain": [
       "{'dimension': 1536,\n",
       " 'index_fullness': 0.0,\n",
       " 'namespaces': {},\n",
       " 'total_vector_count': 0}"
      ]
     },
     "execution_count": 5,
     "metadata": {},
     "output_type": "execute_result"
    }
   ],
   "source": [
    "index.describe_index_stats()"
   ]
  },
  {
   "cell_type": "code",
   "execution_count": 6,
   "id": "d5865926-54fc-45e4-8b1d-949d36bae14f",
   "metadata": {},
   "outputs": [],
   "source": [
    "# Use embedding model \"text-embedding-ada-002\" from openAI to create vector embeddings\n",
    "embed_model = OpenAIEmbeddings(model=\"text-embedding-ada-002\",\n",
    "                               disallowed_special=())"
   ]
  },
  {
   "cell_type": "markdown",
   "id": "0277faae",
   "metadata": {},
   "source": [
    "# Load documents"
   ]
  },
  {
   "cell_type": "code",
   "execution_count": null,
   "id": "5bd4e30d",
   "metadata": {},
   "outputs": [],
   "source": [
    "# Load all paper content into a DataFrame\n",
    "\"\"\"\n",
    "df = pd.DataFrame(columns=[\"text\"])\n",
    "\n",
    "papers = glob.glob(\"../data/txt/content/*.txt\")\n",
    "\n",
    "for paper_path in papers:\n",
    "    \n",
    "    with open(paper_path, \"r\") as infile:\n",
    "        paper = infile.read()\n",
    "\n",
    "    df = pd.concat([df, pd.DataFrame([paper], columns=[\"text\"])], ignore_index=True)\"\"\""
   ]
  },
  {
   "cell_type": "code",
   "execution_count": 7,
   "id": "cb897d8a",
   "metadata": {},
   "outputs": [],
   "source": [
    "# Define the metadata extraction function.\n",
    "def metadata_func(record: dict, metadata: dict) -> dict:\n",
    "\n",
    "    metadata[\"title\"] = record.get(\"title\")\n",
    "    metadata[\"source\"] = record.get(\"source\")\n",
    "    metadata[\"id\"] = record.get(\"id\")\n",
    "\n",
    "    return metadata"
   ]
  },
  {
   "cell_type": "markdown",
   "id": "f3a03ae9",
   "metadata": {},
   "source": [
    "# LOAD PAPER CONTENT\n",
    "loader = JSONLoader(\n",
    "    file_path=f\"../data/{cat}papers_aug_clean.jsonl\",\n",
    "    jq_schema='.',\n",
    "    content_key=\"content\",\n",
    "    metadata_func=metadata_func,\n",
    "    json_lines=True)\n",
    "\n",
    "docs = loader.load()"
   ]
  },
  {
   "cell_type": "code",
   "execution_count": 9,
   "id": "03aadb40",
   "metadata": {},
   "outputs": [],
   "source": [
    "cat = \"cs_CL\""
   ]
  },
  {
   "cell_type": "code",
   "execution_count": 10,
   "id": "ebbbf64b",
   "metadata": {},
   "outputs": [],
   "source": [
    "# LOAD PAPER CONTENT\n",
    "loader = JSONLoader(\n",
    "    file_path=f\"../data/{cat}_train.jsonl\",\n",
    "    jq_schema='.',\n",
    "    content_key=\"text\",\n",
    "    metadata_func=metadata_func,\n",
    "    json_lines=True)\n",
    "\n",
    "docs = loader.load()"
   ]
  },
  {
   "cell_type": "code",
   "execution_count": null,
   "id": "be8e93c0",
   "metadata": {},
   "outputs": [],
   "source": [
    "# CURRENTLY ONLY USING ABSTRACT SUMMARY TO INSERT AS EMBEDDING VECTORS IN DB\n",
    "# This DataFrame structure is currently used to insert docs into Pinecone\n",
    "\n",
    "#dataset = pd.read_json(\"../data/cs_CLpapers.jsonl\", lines=True)\n",
    "#dataset.dropna(subset=[\"summary\"], inplace=True)"
   ]
  },
  {
   "cell_type": "code",
   "execution_count": null,
   "id": "cbc948a3",
   "metadata": {},
   "outputs": [],
   "source": [
    "# Load dataset from Huggingface\n",
    "documents = load_dataset(\"kieranschubert/arxiv_cs_CL_train\", split=\"train\")"
   ]
  },
  {
   "cell_type": "markdown",
   "id": "fef5d48f",
   "metadata": {},
   "source": [
    "# Insert docs into Pinecone"
   ]
  },
  {
   "cell_type": "markdown",
   "id": "ba12ee53",
   "metadata": {},
   "source": [
    "- Need to update code to allow/disallow special tokens"
   ]
  },
  {
   "cell_type": "code",
   "execution_count": 11,
   "id": "9dba7a32-12b1-41c9-be15-603f10b8307e",
   "metadata": {},
   "outputs": [
    {
     "name": "stderr",
     "output_type": "stream",
     "text": [
      " 89%|████████████████████████████████████████████████████████████████████████████████████████████████████████████████████████████████████████████████████████████████████████████████████▌                     | 531/594 [55:40<10:25:13, 595.45s/it]"
     ]
    },
    {
     "name": "stdout",
     "output_type": "stream",
     "text": [
      "Batch no: {i}, Exception: {e}\n"
     ]
    },
    {
     "name": "stderr",
     "output_type": "stream",
     "text": [
      "100%|██████████████████████████████████████████████████████████████████████████████████████████████████████████████████████████████████████████████████████████████████████████████████████████████████████████████| 594/594 [58:30<00:00,  5.91s/it]\n"
     ]
    }
   ],
   "source": [
    "batch_size = 100\n",
    "\n",
    "for i in tqdm.tqdm(range(0, len(docs), batch_size)):\n",
    "\n",
    "    i_end = min(len(docs), i+batch_size)\n",
    "\n",
    "    # get batch of data\n",
    "    batch = docs[i:i_end]\n",
    "\n",
    "    # get id for each record\n",
    "    ids = [x.metadata[\"id\"] for x in batch]\n",
    "    \n",
    "    # get text\n",
    "    documents = [x.page_content for x in batch]\n",
    "\n",
    "    # embed text\n",
    "    embeds = embed_model.embed_documents(documents)\n",
    "\n",
    "    # get metadata to store in Pinecone\n",
    "    metadata = [\n",
    "        {'text': x.page_content,\n",
    "         'source': x.metadata['source'],\n",
    "         'title': x.metadata['title']} for x in batch\n",
    "    ]\n",
    "\n",
    "    # insert into Pinecone\n",
    "    try:\n",
    "        index.upsert(vectors=zip(ids, embeds, metadata))\n",
    "    except Exception as e:\n",
    "        print(\"Batch no: {i}, Exception: {e}\")\n"
   ]
  },
  {
   "cell_type": "code",
   "execution_count": 12,
   "id": "bd781716-140a-4729-b78d-c99e00c45277",
   "metadata": {},
   "outputs": [
    {
     "data": {
      "text/plain": [
       "{'dimension': 1536,\n",
       " 'index_fullness': 0.59,\n",
       " 'namespaces': {'': {'vector_count': 59000}},\n",
       " 'total_vector_count': 59000}"
      ]
     },
     "execution_count": 12,
     "metadata": {},
     "output_type": "execute_result"
    }
   ],
   "source": [
    "index.describe_index_stats()"
   ]
  },
  {
   "cell_type": "code",
   "execution_count": null,
   "id": "80b5ca1e",
   "metadata": {},
   "outputs": [],
   "source": []
  }
 ],
 "metadata": {
  "kernelspec": {
   "display_name": "venv_rag",
   "language": "python",
   "name": "venv_rag"
  },
  "language_info": {
   "codemirror_mode": {
    "name": "ipython",
    "version": 3
   },
   "file_extension": ".py",
   "mimetype": "text/x-python",
   "name": "python",
   "nbconvert_exporter": "python",
   "pygments_lexer": "ipython3",
   "version": "3.11.5"
  }
 },
 "nbformat": 4,
 "nbformat_minor": 5
}
